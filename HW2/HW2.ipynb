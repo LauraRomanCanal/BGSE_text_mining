{
 "cells": [
  {
   "cell_type": "markdown",
   "metadata": {
    "deletable": true,
    "editable": true
   },
   "source": [
    "# BGSE Text Mining Homework 2\n",
    "## Euan Dowers, Veronika Kyuchukova, and Laura Roman\n",
    "\n",
    "### Exercise 1\n",
    "\n",
    "The objective of this exercise is to implement uncollapsed gibbs sampling for fitting an LDA model to state of the union speeches from 1945 onwards, with documents being defined at the paragraph level. \n",
    "\n",
    "First, we need to read in and process the data, as in the first homework set:"
   ]
  },
  {
   "cell_type": "code",
   "execution_count": 2,
   "metadata": {
    "collapsed": false,
    "deletable": true,
    "editable": true
   },
   "outputs": [],
   "source": [
    "import numpy as np\n",
    "import pandas as pd\n",
    "import nltk\n",
    "import os\n",
    "import sys\n",
    "import scipy.sparse as ssp\n",
    "import time\n",
    "import matplotlib\n",
    "import tqdm\n",
    "from tqdm import tqdm\n",
    "from numpy.random import dirichlet, multinomial\n",
    "from collections import Counter\n",
    "from utils import data_processing, get_vocab, make_count\n",
    "%matplotlib inline"
   ]
  },
  {
   "cell_type": "code",
   "execution_count": 4,
   "metadata": {
    "collapsed": false,
    "deletable": true,
    "editable": true
   },
   "outputs": [
    {
     "name": "stdout",
     "output_type": "stream",
     "text": [
      "CPU times: user 9.25 s, sys: 20 ms, total: 9.27 s\n",
      "Wall time: 9.27 s\n"
     ]
    }
   ],
   "source": [
    "data = pd.read_table(\"HW1/speech_data_extend.txt\",encoding=\"utf-8\")\n",
    "data_post1945 = data.loc[data.year >= 1945]\n",
    "%time stemmed, processed_data = data_processing(data_post1945)"
   ]
  },
  {
   "cell_type": "markdown",
   "metadata": {
    "deletable": true,
    "editable": true
   },
   "source": [
    "Now we will create a function that implements uncollapsed gibbs sampling on our processed data.\n",
    "This essentially works by repeatedly sampling from the posterior distributions of $Z$, $\\Theta$, and $\\beta$ and updating values using the most recent sample. "
   ]
  },
  {
   "cell_type": "code",
   "execution_count": 3,
   "metadata": {
    "collapsed": false,
    "deletable": true,
    "editable": true
   },
   "outputs": [],
   "source": [
    "def Gibbs_sampling_LDA(stemmed, K, alpha = None, eta = None, m=3, n_samples = 200, burnin = 500, perplexity = False):\n",
    "    '''\n",
    "    Gibbs sampler for LDA model\n",
    "    '''\n",
    "\n",
    "    def Z_sample(Beta, Theta, Theta_x_Beta):\n",
    "        denom = Theta_x_Beta\n",
    "        Z = [0] * len(stemmed)\n",
    "        for i in range(len(stemmed)):\n",
    "            sel = [idx[word] for word in stemmed[i]]\n",
    "            prod = Beta[:,sel].T * Theta[i,:].reshape((1,K))\n",
    "            probs = prod / denom[i,sel].reshape(len(stemmed[i]),1)\n",
    "            Z[i] = [np.argmax(multinomial(n=1, pvals = z, size = 1)[0]) for z in probs]\n",
    "        return Z\n",
    "\n",
    "    def Beta_sample(eta, Z):\n",
    "        z_s = [z for sublist in Z for z in sublist ]\n",
    "        M = np.zeros(shape=(K,V))\n",
    "        for k in range(K):\n",
    "            words = [s[i] for i in range(len(z_s)) if z_s[i] == k]\n",
    "            counts = Counter(words)\n",
    "            for word in set(words):\n",
    "                M[k,idx[word]] = counts[word]\n",
    "        Beta = [dirichlet(alpha = eta + M[i],size = 1)[0] for i in range(K)]\n",
    "        return np.array(Beta)\n",
    "\n",
    "    def Theta_sample(alpha, Z):\n",
    "        N   = np.zeros(shape=(D,K))\n",
    "        for i in range(D):\n",
    "            counts   = Counter(Z[i])\n",
    "            for j in set(counts.keys()):\n",
    "                N[i,j]  = counts[j]\n",
    "        Theta = [dirichlet(alpha = alpha + N[i],size = 1)[0] for i in range(D)]\n",
    "        return np.array(Theta)\n",
    "\n",
    "    def perplexity(Theta_x_Beta, count_matrix):\n",
    "        '''\n",
    "        Calculate perplexity for given sample\n",
    "        '''\n",
    "        ltb     = np.log(Theta_x_Beta)\n",
    "        num     = np.sum(count_matrix.multiply(ltb))\n",
    "        denom   = len(s)\n",
    "        return np.exp(-num/denom)\n",
    "\n",
    "    # Get params needed for passing to sampling functions\n",
    "    s       = [i for sublist in stemmed for i in sublist ]\n",
    "    vocab   = get_vocab(stemmed)\n",
    "    D       = len(stemmed)\n",
    "    V       = len(vocab)\n",
    "    idx     = dict(zip(vocab,range(len(vocab))))\n",
    "    count_matrix = make_count(stemmed, idx)\n",
    "    perp   = []\n",
    "\n",
    "    # Initialise params\n",
    "    if eta == None:\n",
    "        eta = 200/V\n",
    "    if alpha == None:\n",
    "        alpha = 50/K\n",
    "\n",
    "    Theta   = dirichlet(alpha = [alpha]*K, size = D)\n",
    "    Beta    = dirichlet(alpha = [eta]*V, size = K)\n",
    "    Theta_x_Beta = Theta.dot(Beta)\n",
    "    Z       = Z_sample(Beta, Theta, Theta_x_Beta)\n",
    "    labels  = np.zeros((n_samples, len(s)))\n",
    "\n",
    "    # SAMPLING\n",
    "    print('TIME:', time.strftime(\"%H:%M:%S\", time.gmtime()))\n",
    "    for i in tqdm(range(burnin)):\n",
    "        Z       = Z_sample(Beta, Theta, Theta_x_Beta)\n",
    "        Beta    = Beta_sample(eta, Z)\n",
    "        Theta   = Theta_sample(alpha, Z)\n",
    "        Theta_x_Beta = Theta.dot(Beta)\n",
    "        if i%20 == 0:\n",
    "            if perplexity:\n",
    "                perp.append(perplexity(Theta_x_Beta, count_matrix))\n",
    "            #print('Burnin iteration {}'.format(i))\n",
    "\n",
    "    print('TIME:', time.strftime(\"%H:%M:%S\", time.gmtime()))\n",
    "    for i in tqdm(range(m*n_samples)):\n",
    "        Z       = Z_sample(Beta, Theta, Theta_x_Beta)\n",
    "        Beta    = Beta_sample(eta, Z)\n",
    "        Theta   = Theta_sample(alpha, Z)\n",
    "        Theta_x_Beta = Theta.dot(Beta)\n",
    "\n",
    "        # Add every m-th sample to output\n",
    "        if i%m == 0:\n",
    "            Z_s = [i for sublist in Z for i in sublist ]\n",
    "            j = np.int(i/m)\n",
    "            labels[j, :] = Z_s\n",
    "        if i%20 == 0:\n",
    "            if perplexity:\n",
    "                perp.append(perplexity(Theta_x_Beta, count_matrix))\n",
    "            #print( \"Iteration {}\".format(i))\n",
    "\n",
    "    return (labels, perp)"
   ]
  },
  {
   "cell_type": "code",
   "execution_count": 4,
   "metadata": {
    "collapsed": false,
    "deletable": true,
    "editable": true,
    "scrolled": false
   },
   "outputs": [
    {
     "name": "stderr",
     "output_type": "stream",
     "text": [
      "\r",
      "  0%|          | 0/1000 [00:00<?, ?it/s]"
     ]
    },
    {
     "name": "stdout",
     "output_type": "stream",
     "text": [
      "TIME: 06:39:10\n"
     ]
    },
    {
     "name": "stderr",
     "output_type": "stream",
     "text": [
      "100%|██████████| 1000/1000 [51:10<00:00,  2.83s/it] \n",
      "  0%|          | 0/500 [00:00<?, ?it/s]"
     ]
    },
    {
     "name": "stdout",
     "output_type": "stream",
     "text": [
      "TIME: 07:30:21\n"
     ]
    },
    {
     "name": "stderr",
     "output_type": "stream",
     "text": [
      "100%|██████████| 500/500 [25:20<00:00,  3.50s/it]\n"
     ]
    }
   ],
   "source": [
    "LDA_labels, perp = Gibbs_sampling_LDA(stemmed,\n",
    "                                      K = 10,\n",
    "                                      n_samples = 100,\n",
    "                                      m = 5,\n",
    "                                      perplexity=True,\n",
    "                                      burnin = 1000)"
   ]
  },
  {
   "cell_type": "markdown",
   "metadata": {
    "collapsed": true,
    "deletable": true,
    "editable": true
   },
   "source": [
    "As you can see this sampling function takes around 1h10m to complete 1500 iterations. The output is a list of perplexities (from every 20th sample) and a numpy array containing a label assignment for each word in the corpus, for each sampling iteration after the initial burnin period. Since this takes so long we have saved these outputs and will load them from disk for any further analysis. "
   ]
  },
  {
   "cell_type": "code",
   "execution_count": 5,
   "metadata": {
    "collapsed": true,
    "deletable": true,
    "editable": true
   },
   "outputs": [],
   "source": [
    "LDA_labels.tofile('LDA_labels.npy')\n",
    "pd.DataFrame(perp).to_csv('perplexity.csv')"
   ]
  },
  {
   "cell_type": "markdown",
   "metadata": {
    "deletable": true,
    "editable": true
   },
   "source": [
    "Now make a function that, given a draw from the gibbs sampling, returns a document topic matrix (for use in the next exercise)."
   ]
  },
  {
   "cell_type": "code",
   "execution_count": 6,
   "metadata": {
    "collapsed": true,
    "deletable": true,
    "editable": true
   },
   "outputs": [],
   "source": [
    "doc_label = [[i]*len(stemmed[i]) for i in range(len(stemmed))]\n",
    "doc_label = [i for sublist in doc_label for i in sublist]\n",
    "\n",
    "def dt_matrix(labels, doc_label):\n",
    "    dt = np.zeros((len(set(doc_label)), K))\n",
    "    label_dict = dict(zip(range(labels.shape[0]), labels.astype(int)))\n",
    "    doc_dict = dict(zip(range(len(doc_label)), doc_label))\n",
    "    for i in range(len(doc_label)):\n",
    "        dt[doc_dict[i], label_dict[i]] += 1\n",
    "    return dt"
   ]
  },
  {
   "cell_type": "markdown",
   "metadata": {
    "deletable": true,
    "editable": true
   },
   "source": [
    "Now use this to come up with some kind of estimate of the predictive distribution of theta"
   ]
  },
  {
   "cell_type": "code",
   "execution_count": 28,
   "metadata": {
    "collapsed": false,
    "deletable": true,
    "editable": true
   },
   "outputs": [],
   "source": [
    "alpha = 50/10\n",
    "K = 10\n",
    "dt_avg = np.zeros((len(stemmed), 10))\n",
    "for i in np.arange(0,100, 10 ):\n",
    "    dt_avg += dt_matrix(LDA_labels[i], doc_label)\n",
    "dt_avg /= 10\n",
    "\n",
    "nmz = dt_avg\n",
    "nm = np.array([len(doc) for doc in stemmed]).reshape(10252,1)\n",
    "\n",
    "theta_unc = (dt_avg + alpha) / (nm + 10 * alpha)\n",
    "\n",
    "theta_unc = pd.DataFrame(theta_uncollapsed)\n",
    "theta_unc.to_csv('theta_uncollapsed.csv')"
   ]
  },
  {
   "cell_type": "markdown",
   "metadata": {
    "deletable": true,
    "editable": true
   },
   "source": [
    "Here we calculate document term matrices for a number of draws and then average them to estimate the predictive distribution of $\\Theta$"
   ]
  },
  {
   "cell_type": "markdown",
   "metadata": {
    "collapsed": true,
    "deletable": true,
    "editable": true
   },
   "source": [
    "### Exercise 2\n",
    "\n",
    "The objective of this exercise is to run the collapsed Gibbs sampling version for fitting an LDA model to the same data, hyperparameters and K, and compare its predictive distribution with the one we get from uncollapes Gibbs sampling. In order to do so, we will work with a Python3 adapted version of the collapsed Gibbs sampler that can be found in https: //github.com/sekhansen/text-mining-tutorial \n"
   ]
  },
  {
   "cell_type": "markdown",
   "metadata": {
    "deletable": true,
    "editable": true
   },
   "source": [
    "#### a) Plot the perplexity across sampling iterations. Which algorithm appears to burn in faster?"
   ]
  },
  {
   "cell_type": "code",
   "execution_count": null,
   "metadata": {
    "collapsed": true,
    "deletable": true,
    "editable": true
   },
   "outputs": [],
   "source": [
    "import topicmodels"
   ]
  },
  {
   "cell_type": "code",
   "execution_count": null,
   "metadata": {
    "collapsed": true,
    "deletable": true,
    "editable": true
   },
   "outputs": [],
   "source": [
    "os.chdir('/Users/Laura/Desktop/text_mining_hw2/ex1')\n",
    "from utils import data_processing, get_vocab, make_count\n",
    "os.chdir('/Users/Laura/Desktop/text_mining_hw2')\n",
    "data = pd.read_table(\"speech_data_extend.txt\",encoding=\"utf-8\")\n",
    "data_post1945 = data.loc[data.year >= 1945]\n",
    "%time stemmed, processed_data = data_processing(data_post1945)\n",
    "\n",
    "ldaobj = topicmodels.LDA.LDAGibbs(stemmed, 10)\n",
    "\n",
    "\n",
    "ldaobj.sample(0, 20, 75)\n",
    "\n",
    "perp2 = ldaobj.perplexity()\n",
    "perp_2 =  pd.DataFrame(perp_2)\n",
    "pd.DataFrame.to_csv(perp_2,path_or_buf='perplexity_collapsed.csv',index=False)"
   ]
  },
  {
   "cell_type": "markdown",
   "metadata": {
    "deletable": true,
    "editable": true
   },
   "source": [
    "Import perplexity computed with uncollapsed Gibbs sampler:"
   ]
  },
  {
   "cell_type": "code",
   "execution_count": null,
   "metadata": {
    "collapsed": true,
    "deletable": true,
    "editable": true
   },
   "outputs": [],
   "source": [
    "os.chdir('/Users/Laura/Desktop/text_mining_hw2/data')\n",
    "perp1 = pd.read_csv('./perplexity.csv') \n",
    "perp1 = np.array(perp1)\n",
    "perp1 = perp1[:,1]"
   ]
  },
  {
   "cell_type": "markdown",
   "metadata": {
    "deletable": true,
    "editable": true
   },
   "source": [
    "And compare the results by plotting the perplexity obtained with each algorithm against the samples taken:"
   ]
  },
  {
   "cell_type": "code",
   "execution_count": null,
   "metadata": {
    "collapsed": true,
    "deletable": true,
    "editable": true
   },
   "outputs": [],
   "source": [
    "plt.plot(perp1,   lw = 1., label = 'uncollapsed')\n",
    "plt.plot(perp2, lw = 1., label = 'collapsed')\n",
    "plt.legend(loc='center left', bbox_to_anchor=(0.65, 0.8))\n",
    "plt.ylabel('perplexity')\n",
    "plt.xlabel('samples')\n",
    "plt.savefig('perplexities.png', bbox_inches='tight')\n"
   ]
  },
  {
   "cell_type": "markdown",
   "metadata": {
    "deletable": true,
    "editable": true
   },
   "source": [
    "We can see that while the collapsed Gibbs sampler stabilizes rapidly, at 10 samples  and with a perplexity of 1130 more or less, the uncollapsed Gibbs sampler seems not to fully stabilize with even more than 75 samples."
   ]
  },
  {
   "cell_type": "markdown",
   "metadata": {
    "deletable": true,
    "editable": true
   },
   "source": [
    "#### b) After the burn-in period, construct estimates of the predictive distribution of theta for each document across a number of draws from the samplers. Are the average values of these predictive distributions similar in the uncollapsed and collapsed samplers? How variable are these predictive distributions in the two algorithms across sample draws?"
   ]
  },
  {
   "cell_type": "code",
   "execution_count": null,
   "metadata": {
    "collapsed": true,
    "deletable": true,
    "editable": true
   },
   "outputs": [],
   "source": [
    "ldaobj = topicmodels.LDA.LDAGibbs(stemmed, 10)\n",
    "ldaobj.sample(1000, 5, 100)\n",
    "\n",
    "\n",
    "k = ldaobj.K\n",
    "alpha =  ldaobj.alpha\n",
    "docterms = ldaobj.dt_avg()\n",
    "nm = np.array([len(doc) for doc in stemmed])\n",
    "nm = nm.reshape((10252,1))\n",
    "nmz = nm*docterms\n",
    "\n",
    "theta_collapsed = (nmz+alpha)/(nm+k*alpha)\n",
    "\n",
    "theta_uncoll = pd.read_csv('./theta_uncollapsed.csv') \n",
    "theta_uncoll.drop( 'Unnamed: 0',axis=1,inplace=True)\n",
    "theta_uncoll = np.array(theta_uncoll)\n"
   ]
  },
  {
   "cell_type": "markdown",
   "metadata": {
    "deletable": true,
    "editable": true
   },
   "source": [
    "We now proced to compare the average value of the predictive distributions in the uncollapsed and collapsed samplers. Also, we take a step more and compute the standard deviation and variance. "
   ]
  },
  {
   "cell_type": "code",
   "execution_count": null,
   "metadata": {
    "collapsed": true,
    "deletable": true,
    "editable": true
   },
   "outputs": [],
   "source": [
    "theta_collapsed.mean()\n",
    "theta_uncoll.mean()\n",
    "\n",
    "# from collapsed gibbs sampler\n",
    "m_c = np.array(theta_collapsed.mean(axis=0))\n",
    "st_c= np.array(theta_collapsed.std(axis=0))\n",
    "var_c = np.array(np.var(theta_collapsed, axis=0))\n",
    "\n",
    "# from uncollapsed gibbs sampler\n",
    "m_u = np.array(theta_uncoll.mean(axis=0))\n",
    "st_u = np.array(theta_uncoll.std(axis=0))\n",
    "var_u = np.array(np.var(theta_uncoll, axis=0))\n",
    "\n",
    "basic_stats = pd.DataFrame(np.vstack((m_c,m_u,st_c,st_u,var_c,var_u)).T)\n",
    "basic_stats.columns = ['mean_c','mean_unc','sd_c','sd_unc','var_c','var_u']\n",
    "basic_stats"
   ]
  },
  {
   "cell_type": "markdown",
   "metadata": {
    "deletable": true,
    "editable": true
   },
   "source": [
    "A few observations from these results are:\n",
    "- The average value of the predictive distribution with the uncollapsed and collapsed gibbs samplers for each of the 10 topics are very similar, as well as the mean of the distribution which is 0.0999999 for both cases.\n",
    "- The standard deviation across topics and for each model is rather different, being bigger for the uncollapsed sampler. \n",
    "- The variance is significantly much smaller for each topic when working with the collapsed gibbs sampler than with the uncollapsed sampler indicating that the predictive distributions for for the collapsed case are more peaked and thin.\n",
    "\n",
    "Indeed, we can see such difference in the width of topic distributions for each sampler:"
   ]
  },
  {
   "cell_type": "markdown",
   "metadata": {
    "deletable": true,
    "editable": true
   },
   "source": [
    "- Collapsed gibbs sampler predictive distributions:"
   ]
  },
  {
   "cell_type": "code",
   "execution_count": null,
   "metadata": {
    "collapsed": true,
    "deletable": true,
    "editable": true
   },
   "outputs": [],
   "source": [
    "# collapsed gibbs sampler\n",
    "\n",
    "t1 = theta_collapsed[:,0]\n",
    "t2 = theta_collapsed[:,1]\n",
    "t3 = theta_collapsed[:,2]\n",
    "t4 = theta_collapsed[:,3]\n",
    "t5 = theta_collapsed[:,4]\n",
    "t6 = theta_collapsed[:,5]\n",
    "t7 = theta_collapsed[:,6]\n",
    "t8 = theta_collapsed[:,7]\n",
    "t9 = theta_collapsed[:,8]\n",
    "t10 = theta_collapsed[:,9]\n",
    "\n",
    "bins = np.linspace(0.03, 0.225, 70)\n",
    "\n",
    "pyplot.hist(t1, bins, alpha=0.5, label='topic 1')\n",
    "pyplot.hist(t2, bins, alpha=0.5, label='topic 2')\n",
    "pyplot.hist(t3, bins, alpha=0.5, label='topic 3')\n",
    "pyplot.hist(t4, bins, alpha=0.5, label='topic 4')\n",
    "pyplot.hist(t5, bins, alpha=0.5, label='topic 5')\n",
    "pyplot.hist(t6, bins, alpha=0.5, label='topic 6')\n",
    "pyplot.hist(t7, bins, alpha=0.5, label='topic 7')\n",
    "pyplot.hist(t8, bins, alpha=0.5, label='topic 8')\n",
    "pyplot.hist(t9, bins, alpha=0.5, label='topic 9')\n",
    "pyplot.legend(loc='upper right')\n",
    "pyplot.show()"
   ]
  },
  {
   "cell_type": "markdown",
   "metadata": {
    "deletable": true,
    "editable": true
   },
   "source": [
    "- Uncollapsed gibbs sampler predictive distributions:"
   ]
  },
  {
   "cell_type": "code",
   "execution_count": null,
   "metadata": {
    "collapsed": true,
    "deletable": true,
    "editable": true
   },
   "outputs": [],
   "source": [
    "# uncollapsed gibbs sampler\n",
    "\n",
    "ut1 = theta_uncoll[:,0]\n",
    "ut2 = theta_uncoll[:,1]\n",
    "ut3 = theta_uncoll[:,2]\n",
    "ut4 = theta_uncoll[:,3]\n",
    "ut5 = theta_uncoll[:,4]\n",
    "ut6 = theta_uncoll[:,5]\n",
    "ut7 = theta_uncoll[:,6]\n",
    "ut8 = theta_uncoll[:,7]\n",
    "ut9 = theta_uncoll[:,8]\n",
    "ut10 = theta_uncoll[:,9]\n",
    "\n",
    "bins = np.linspace(0.03, 0.225, 70)\n",
    "\n",
    "pyplot.hist(ut1, bins, alpha=0.5, label='topic 1')\n",
    "pyplot.hist(ut2, bins, alpha=0.5, label='topic 2')\n",
    "pyplot.hist(ut3, bins, alpha=0.5, label='topic 3')\n",
    "pyplot.hist(ut4, bins, alpha=0.5, label='topic 4')\n",
    "pyplot.hist(ut5, bins, alpha=0.5, label='topic 5')\n",
    "pyplot.hist(ut6, bins, alpha=0.5, label='topic 6')\n",
    "pyplot.hist(ut7, bins, alpha=0.5, label='topic 7')\n",
    "pyplot.hist(ut8, bins, alpha=0.5, label='topic 8')\n",
    "pyplot.hist(ut9, bins, alpha=0.5, label='topic 9')\n",
    "pyplot.legend(loc='upper right')\n",
    "pyplot.show()\n"
   ]
  },
  {
   "cell_type": "markdown",
   "metadata": {
    "deletable": true,
    "editable": true
   },
   "source": [
    "### Exercise 3"
   ]
  },
  {
   "cell_type": "markdown",
   "metadata": {
    "deletable": true,
    "editable": true
   },
   "source": [
    "In this exercise we are interested in comparing the classification performance of a penalized logistic regression when paragraphs (which is associated with one of two political parties) are represented as unigram counts over raw terms versus topic shares. We use training samples to estimate the relationship between document content and political party, and then assess its out-of-sample performance on held-out data.\n",
    "\n",
    "First we need to create a `party` variable and create a count matrix, then we can fit our models. "
   ]
  },
  {
   "cell_type": "code",
   "execution_count": 3,
   "metadata": {
    "collapsed": false,
    "deletable": true,
    "editable": true
   },
   "outputs": [
    {
     "name": "stdout",
     "output_type": "stream",
     "text": [
      "{'Nixon': 'R', 'Carter': 'D', 'Reagan': 'R', 'JohnsonII': 'D', 'Kennedy': 'D', 'BushII': 'R', 'Clinton': 'D', 'RooseveltII': 'D', 'Truman': 'D', 'Eisenhower': 'R', 'Obama': 'D', 'BushI': 'R', 'Ford': 'R'}\n"
     ]
    }
   ],
   "source": [
    "pres = ['BushI', 'BushII', 'Carter', 'Clinton', 'Eisenhower', 'Ford', 'JohnsonII', 'Kennedy', 'Nixon', 'Obama', 'Reagan', 'RooseveltII', 'Truman']\n",
    "party = ['R','R','D','D','R','R','D','D','R','D','R','D','D']\n",
    "pres_party = dict(zip(pres, party))\n",
    "\n",
    "# check party assignments are correct\n",
    "print(pres_party)"
   ]
  },
  {
   "cell_type": "code",
   "execution_count": 5,
   "metadata": {
    "collapsed": true
   },
   "outputs": [],
   "source": [
    "parties = [pres_party[i] for i in processed_data.president]\n",
    "\n",
    "vocab   = get_vocab(stemmed)\n",
    "D       = len(stemmed)\n",
    "V       = len(vocab)\n",
    "idx     = dict(zip(vocab,range(len(vocab))))\n",
    "\n",
    "X = make_count(stemmed, idx).toarray() # make_count was a sparse array, so transfrom to np.array"
   ]
  },
  {
   "cell_type": "code",
   "execution_count": 8,
   "metadata": {
    "collapsed": false
   },
   "outputs": [],
   "source": [
    "###############\n",
    "# LASSO\n",
    "###############\n",
    "\n",
    "from sklearn.metrics import accuracy_score, confusion_matrix\n",
    "from sklearn.model_selection import train_test_split\n",
    "from sklearn.linear_model import LogisticRegression\n",
    "\n",
    "X_train, X_test, y_train, y_test = train_test_split(X, parties)\n",
    "\n",
    "model = LogisticRegression(penalty = 'l1')\n",
    "\n",
    "model.fit(X_train, y_train)\n",
    "preds = model.predict(X_test)"
   ]
  },
  {
   "cell_type": "code",
   "execution_count": 10,
   "metadata": {
    "collapsed": false
   },
   "outputs": [
    {
     "name": "stdout",
     "output_type": "stream",
     "text": [
      "0.691767460008\n",
      "[[1206  330]\n",
      " [ 460  567]]\n"
     ]
    }
   ],
   "source": [
    "print(accuracy_score(y_test, preds))\n",
    "print(confusion_matrix(y_test, preds)) "
   ]
  },
  {
   "cell_type": "code",
   "execution_count": 11,
   "metadata": {
    "collapsed": true
   },
   "outputs": [],
   "source": [
    "######################\n",
    "# Ridge\n",
    "######################\n",
    "\n",
    "model = LogisticRegression(penalty = 'l2')\n",
    "model.fit(X_train, y_train)\n",
    "preds = model.predict(X_test)"
   ]
  },
  {
   "cell_type": "code",
   "execution_count": 12,
   "metadata": {
    "collapsed": false
   },
   "outputs": [
    {
     "name": "stdout",
     "output_type": "stream",
     "text": [
      "0.699570815451\n",
      "[[1215  321]\n",
      " [ 449  578]]\n"
     ]
    }
   ],
   "source": [
    "print(accuracy_score(y_test, preds))\n",
    "print(confusion_matrix(y_test, preds)) "
   ]
  },
  {
   "cell_type": "markdown",
   "metadata": {},
   "source": [
    "Now use topic assignments"
   ]
  },
  {
   "cell_type": "code",
   "execution_count": 16,
   "metadata": {
    "collapsed": false
   },
   "outputs": [
    {
     "name": "stderr",
     "output_type": "stream",
     "text": [
      "INFO:lda:n_documents: 10252\n",
      "INFO:lda:vocab_size: 8491\n",
      "INFO:lda:n_words: 298225\n",
      "INFO:lda:n_topics: 20\n",
      "INFO:lda:n_iter: 2000\n",
      "INFO:lda:<0> log likelihood: -3545641\n",
      "INFO:lda:<10> log likelihood: -2574790\n",
      "INFO:lda:<20> log likelihood: -2453290\n",
      "INFO:lda:<30> log likelihood: -2409415\n",
      "INFO:lda:<40> log likelihood: -2387055\n",
      "INFO:lda:<50> log likelihood: -2369930\n",
      "INFO:lda:<60> log likelihood: -2360482\n",
      "INFO:lda:<70> log likelihood: -2353386\n",
      "INFO:lda:<80> log likelihood: -2346667\n",
      "INFO:lda:<90> log likelihood: -2342861\n",
      "INFO:lda:<100> log likelihood: -2339912\n",
      "INFO:lda:<110> log likelihood: -2335970\n",
      "INFO:lda:<120> log likelihood: -2334715\n",
      "INFO:lda:<130> log likelihood: -2332293\n",
      "INFO:lda:<140> log likelihood: -2331748\n",
      "INFO:lda:<150> log likelihood: -2329259\n",
      "INFO:lda:<160> log likelihood: -2326872\n",
      "INFO:lda:<170> log likelihood: -2326207\n",
      "INFO:lda:<180> log likelihood: -2325881\n",
      "INFO:lda:<190> log likelihood: -2326123\n",
      "INFO:lda:<200> log likelihood: -2324020\n",
      "INFO:lda:<210> log likelihood: -2323670\n",
      "INFO:lda:<220> log likelihood: -2322567\n",
      "INFO:lda:<230> log likelihood: -2323406\n",
      "INFO:lda:<240> log likelihood: -2321844\n",
      "INFO:lda:<250> log likelihood: -2320888\n",
      "INFO:lda:<260> log likelihood: -2321746\n",
      "INFO:lda:<270> log likelihood: -2321254\n",
      "INFO:lda:<280> log likelihood: -2321829\n",
      "INFO:lda:<290> log likelihood: -2321255\n",
      "INFO:lda:<300> log likelihood: -2320377\n",
      "INFO:lda:<310> log likelihood: -2319363\n",
      "INFO:lda:<320> log likelihood: -2319512\n",
      "INFO:lda:<330> log likelihood: -2319441\n",
      "INFO:lda:<340> log likelihood: -2319894\n",
      "INFO:lda:<350> log likelihood: -2320345\n",
      "INFO:lda:<360> log likelihood: -2319608\n",
      "INFO:lda:<370> log likelihood: -2320622\n",
      "INFO:lda:<380> log likelihood: -2320089\n",
      "INFO:lda:<390> log likelihood: -2319359\n",
      "INFO:lda:<400> log likelihood: -2319093\n",
      "INFO:lda:<410> log likelihood: -2319646\n",
      "INFO:lda:<420> log likelihood: -2318582\n",
      "INFO:lda:<430> log likelihood: -2318541\n",
      "INFO:lda:<440> log likelihood: -2319124\n",
      "INFO:lda:<450> log likelihood: -2318573\n",
      "INFO:lda:<460> log likelihood: -2318755\n",
      "INFO:lda:<470> log likelihood: -2318563\n",
      "INFO:lda:<480> log likelihood: -2318431\n",
      "INFO:lda:<490> log likelihood: -2316880\n",
      "INFO:lda:<500> log likelihood: -2318587\n",
      "INFO:lda:<510> log likelihood: -2318605\n",
      "INFO:lda:<520> log likelihood: -2317909\n",
      "INFO:lda:<530> log likelihood: -2317976\n",
      "INFO:lda:<540> log likelihood: -2318315\n",
      "INFO:lda:<550> log likelihood: -2317856\n",
      "INFO:lda:<560> log likelihood: -2319183\n",
      "INFO:lda:<570> log likelihood: -2317446\n",
      "INFO:lda:<580> log likelihood: -2319509\n",
      "INFO:lda:<590> log likelihood: -2317732\n",
      "INFO:lda:<600> log likelihood: -2317593\n",
      "INFO:lda:<610> log likelihood: -2318156\n",
      "INFO:lda:<620> log likelihood: -2317086\n",
      "INFO:lda:<630> log likelihood: -2316592\n",
      "INFO:lda:<640> log likelihood: -2316859\n",
      "INFO:lda:<650> log likelihood: -2317218\n",
      "INFO:lda:<660> log likelihood: -2318908\n",
      "INFO:lda:<670> log likelihood: -2317155\n",
      "INFO:lda:<680> log likelihood: -2318017\n",
      "INFO:lda:<690> log likelihood: -2317763\n",
      "INFO:lda:<700> log likelihood: -2317469\n",
      "INFO:lda:<710> log likelihood: -2316867\n",
      "INFO:lda:<720> log likelihood: -2316819\n",
      "INFO:lda:<730> log likelihood: -2316117\n",
      "INFO:lda:<740> log likelihood: -2316860\n",
      "INFO:lda:<750> log likelihood: -2316000\n",
      "INFO:lda:<760> log likelihood: -2317350\n",
      "INFO:lda:<770> log likelihood: -2316984\n",
      "INFO:lda:<780> log likelihood: -2316769\n",
      "INFO:lda:<790> log likelihood: -2316330\n",
      "INFO:lda:<800> log likelihood: -2317223\n",
      "INFO:lda:<810> log likelihood: -2316415\n",
      "INFO:lda:<820> log likelihood: -2315790\n",
      "INFO:lda:<830> log likelihood: -2316598\n",
      "INFO:lda:<840> log likelihood: -2316359\n",
      "INFO:lda:<850> log likelihood: -2316483\n",
      "INFO:lda:<860> log likelihood: -2315754\n",
      "INFO:lda:<870> log likelihood: -2316346\n",
      "INFO:lda:<880> log likelihood: -2315984\n",
      "INFO:lda:<890> log likelihood: -2317009\n",
      "INFO:lda:<900> log likelihood: -2315293\n",
      "INFO:lda:<910> log likelihood: -2316437\n",
      "INFO:lda:<920> log likelihood: -2316016\n",
      "INFO:lda:<930> log likelihood: -2316854\n",
      "INFO:lda:<940> log likelihood: -2317079\n",
      "INFO:lda:<950> log likelihood: -2315944\n",
      "INFO:lda:<960> log likelihood: -2316008\n",
      "INFO:lda:<970> log likelihood: -2316001\n",
      "INFO:lda:<980> log likelihood: -2316396\n",
      "INFO:lda:<990> log likelihood: -2315416\n",
      "INFO:lda:<1000> log likelihood: -2317305\n",
      "INFO:lda:<1010> log likelihood: -2315611\n",
      "INFO:lda:<1020> log likelihood: -2315420\n",
      "INFO:lda:<1030> log likelihood: -2316512\n",
      "INFO:lda:<1040> log likelihood: -2315670\n",
      "INFO:lda:<1050> log likelihood: -2316688\n",
      "INFO:lda:<1060> log likelihood: -2315492\n",
      "INFO:lda:<1070> log likelihood: -2315594\n",
      "INFO:lda:<1080> log likelihood: -2316361\n",
      "INFO:lda:<1090> log likelihood: -2315070\n",
      "INFO:lda:<1100> log likelihood: -2316818\n",
      "INFO:lda:<1110> log likelihood: -2317003\n",
      "INFO:lda:<1120> log likelihood: -2316202\n",
      "INFO:lda:<1130> log likelihood: -2316164\n",
      "INFO:lda:<1140> log likelihood: -2316079\n",
      "INFO:lda:<1150> log likelihood: -2315350\n",
      "INFO:lda:<1160> log likelihood: -2316115\n",
      "INFO:lda:<1170> log likelihood: -2316807\n",
      "INFO:lda:<1180> log likelihood: -2315807\n",
      "INFO:lda:<1190> log likelihood: -2316455\n",
      "INFO:lda:<1200> log likelihood: -2316274\n",
      "INFO:lda:<1210> log likelihood: -2317208\n",
      "INFO:lda:<1220> log likelihood: -2316293\n",
      "INFO:lda:<1230> log likelihood: -2316048\n",
      "INFO:lda:<1240> log likelihood: -2316225\n",
      "INFO:lda:<1250> log likelihood: -2316401\n",
      "INFO:lda:<1260> log likelihood: -2317049\n",
      "INFO:lda:<1270> log likelihood: -2317231\n",
      "INFO:lda:<1280> log likelihood: -2315925\n",
      "INFO:lda:<1290> log likelihood: -2316410\n",
      "INFO:lda:<1300> log likelihood: -2316238\n",
      "INFO:lda:<1310> log likelihood: -2316945\n",
      "INFO:lda:<1320> log likelihood: -2316310\n",
      "INFO:lda:<1330> log likelihood: -2316843\n",
      "INFO:lda:<1340> log likelihood: -2316050\n",
      "INFO:lda:<1350> log likelihood: -2317426\n",
      "INFO:lda:<1360> log likelihood: -2316944\n",
      "INFO:lda:<1370> log likelihood: -2316568\n",
      "INFO:lda:<1380> log likelihood: -2316286\n",
      "INFO:lda:<1390> log likelihood: -2315939\n",
      "INFO:lda:<1400> log likelihood: -2315873\n",
      "INFO:lda:<1410> log likelihood: -2315686\n",
      "INFO:lda:<1420> log likelihood: -2316020\n",
      "INFO:lda:<1430> log likelihood: -2314946\n",
      "INFO:lda:<1440> log likelihood: -2315199\n",
      "INFO:lda:<1450> log likelihood: -2315671\n",
      "INFO:lda:<1460> log likelihood: -2315558\n",
      "INFO:lda:<1470> log likelihood: -2314300\n",
      "INFO:lda:<1480> log likelihood: -2316418\n",
      "INFO:lda:<1490> log likelihood: -2315297\n",
      "INFO:lda:<1500> log likelihood: -2316078\n",
      "INFO:lda:<1510> log likelihood: -2315508\n",
      "INFO:lda:<1520> log likelihood: -2315615\n",
      "INFO:lda:<1530> log likelihood: -2316331\n",
      "INFO:lda:<1540> log likelihood: -2316862\n",
      "INFO:lda:<1550> log likelihood: -2316612\n",
      "INFO:lda:<1560> log likelihood: -2316639\n",
      "INFO:lda:<1570> log likelihood: -2316800\n",
      "INFO:lda:<1580> log likelihood: -2315711\n",
      "INFO:lda:<1590> log likelihood: -2316794\n",
      "INFO:lda:<1600> log likelihood: -2316982\n",
      "INFO:lda:<1610> log likelihood: -2316217\n",
      "INFO:lda:<1620> log likelihood: -2315635\n",
      "INFO:lda:<1630> log likelihood: -2314911\n",
      "INFO:lda:<1640> log likelihood: -2315892\n",
      "INFO:lda:<1650> log likelihood: -2316064\n",
      "INFO:lda:<1660> log likelihood: -2316477\n",
      "INFO:lda:<1670> log likelihood: -2315655\n",
      "INFO:lda:<1680> log likelihood: -2315226\n",
      "INFO:lda:<1690> log likelihood: -2316071\n",
      "INFO:lda:<1700> log likelihood: -2314506\n",
      "INFO:lda:<1710> log likelihood: -2315841\n",
      "INFO:lda:<1720> log likelihood: -2315047\n",
      "INFO:lda:<1730> log likelihood: -2315904\n",
      "INFO:lda:<1740> log likelihood: -2315014\n",
      "INFO:lda:<1750> log likelihood: -2315088\n",
      "INFO:lda:<1760> log likelihood: -2315238\n",
      "INFO:lda:<1770> log likelihood: -2315742\n",
      "INFO:lda:<1780> log likelihood: -2316307\n",
      "INFO:lda:<1790> log likelihood: -2315194\n",
      "INFO:lda:<1800> log likelihood: -2315515\n",
      "INFO:lda:<1810> log likelihood: -2316476\n",
      "INFO:lda:<1820> log likelihood: -2315316\n",
      "INFO:lda:<1830> log likelihood: -2315731\n",
      "INFO:lda:<1840> log likelihood: -2315363\n",
      "INFO:lda:<1850> log likelihood: -2316380\n",
      "INFO:lda:<1860> log likelihood: -2315334\n",
      "INFO:lda:<1870> log likelihood: -2315751\n",
      "INFO:lda:<1880> log likelihood: -2314400\n",
      "INFO:lda:<1890> log likelihood: -2315054\n",
      "INFO:lda:<1900> log likelihood: -2314773\n",
      "INFO:lda:<1910> log likelihood: -2314716\n",
      "INFO:lda:<1920> log likelihood: -2314441\n",
      "INFO:lda:<1930> log likelihood: -2314240\n",
      "INFO:lda:<1940> log likelihood: -2314919\n",
      "INFO:lda:<1950> log likelihood: -2314744\n",
      "INFO:lda:<1960> log likelihood: -2316555\n",
      "INFO:lda:<1970> log likelihood: -2316258\n",
      "INFO:lda:<1980> log likelihood: -2315418\n",
      "INFO:lda:<1990> log likelihood: -2315503\n",
      "INFO:lda:<1999> log likelihood: -2314148\n"
     ]
    }
   ],
   "source": [
    "###########################\n",
    "# Using topic assignments\n",
    "###########################\n",
    "from lda import LDA\n",
    "\n",
    "lda_labels = LDA(n_topics = 20)\n",
    "lda_labels.fit(X)\n",
    "dt = lda_labels.doc_topic_\n",
    "\n",
    "X_train, X_test, y_train, y_test = train_test_split(dt, parties)"
   ]
  },
  {
   "cell_type": "code",
   "execution_count": 17,
   "metadata": {
    "collapsed": false
   },
   "outputs": [
    {
     "name": "stdout",
     "output_type": "stream",
     "text": [
      "0.602028872415\n"
     ]
    }
   ],
   "source": [
    "model = LogisticRegression(penalty = 'l1')\n",
    "model.fit(X_train, y_train)\n",
    "preds = model.predict(X_test)\n",
    "print(accuracy_score(y_test, preds))"
   ]
  },
  {
   "cell_type": "code",
   "execution_count": 18,
   "metadata": {
    "collapsed": false
   },
   "outputs": [
    {
     "name": "stdout",
     "output_type": "stream",
     "text": [
      "0.602809207959\n"
     ]
    }
   ],
   "source": [
    "model = LogisticRegression(penalty = 'l2')\n",
    "model.fit(X_train, y_train)\n",
    "preds = model.predict(X_test)\n",
    "print(accuracy_score(y_test, preds))"
   ]
  },
  {
   "cell_type": "markdown",
   "metadata": {},
   "source": [
    "Interestingly, using topic assignments is significantly worse than using raw term-counts"
   ]
  }
 ],
 "metadata": {
  "kernelspec": {
   "display_name": "Python 3",
   "language": "python",
   "name": "python3"
  },
  "language_info": {
   "codemirror_mode": {
    "name": "ipython",
    "version": 3
   },
   "file_extension": ".py",
   "mimetype": "text/x-python",
   "name": "python",
   "nbconvert_exporter": "python",
   "pygments_lexer": "ipython3",
   "version": "3.5.2"
  }
 },
 "nbformat": 4,
 "nbformat_minor": 2
}
